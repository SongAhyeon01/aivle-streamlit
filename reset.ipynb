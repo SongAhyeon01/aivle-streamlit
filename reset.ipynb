{
 "cells": [
  {
   "cell_type": "markdown",
   "id": "2f503f8d-ccda-40cc-a003-61455afaae01",
   "metadata": {},
   "source": [
    "# csv 초기화"
   ]
  },
  {
   "cell_type": "code",
   "execution_count": null,
   "id": "b9e7e7db-4eed-4d35-9621-384febc957e7",
   "metadata": {},
   "outputs": [],
   "source": [
    "# 공통\n",
    "import pandas as pd"
   ]
  },
  {
   "cell_type": "code",
   "execution_count": 26,
   "id": "098b01c0-85db-4055-acbf-a44a28f7b5b2",
   "metadata": {},
   "outputs": [],
   "source": [
    "# 노래 추천 csv 초기화\n",
    "cols = ['singer', 'title', 'alias', 'link']\n",
    "music = [['데이식스', '한 페이지가 될 수 있게', '청량감 가득!','https://youtu.be/fmfLU2ibSn4?si=vlexgejJaPvoCaeK'],\n",
    "        ['데이식스', 'welcome to the show', '가슴 벅차오르는!', 'https://youtu.be/oRXPsQkr8Ww?si=8cnviGBnJ2WP6ga6']]\n",
    "\n",
    "df = pd.DataFrame(music, columns=cols)\n",
    "\n",
    "df.to_csv('recommend_music.csv', index=False)\n"
   ]
  },
  {
   "cell_type": "code",
   "execution_count": 39,
   "id": "e10a2164-adce-4f95-8559-53ef94b7d5dd",
   "metadata": {},
   "outputs": [],
   "source": [
    "# 방명록 csv 초기화\n",
    "cols = ['message']\n",
    "messages = ['안녕하세요', '신기하네요!']\n",
    "\n",
    "df = pd.DataFrame(messages, columns=cols)\n",
    "df.to_csv('messages.csv', index=False)"
   ]
  }
 ],
 "metadata": {
  "kernelspec": {
   "display_name": "Python 3 (ipykernel)",
   "language": "python",
   "name": "python3"
  },
  "language_info": {
   "codemirror_mode": {
    "name": "ipython",
    "version": 3
   },
   "file_extension": ".py",
   "mimetype": "text/x-python",
   "name": "python",
   "nbconvert_exporter": "python",
   "pygments_lexer": "ipython3",
   "version": "3.12.4"
  }
 },
 "nbformat": 4,
 "nbformat_minor": 5
}
